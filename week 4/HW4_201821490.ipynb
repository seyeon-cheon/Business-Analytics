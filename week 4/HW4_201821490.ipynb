{
 "cells": [
  {
   "cell_type": "markdown",
   "metadata": {},
   "source": [
    "# Numpy"
   ]
  },
  {
   "cell_type": "markdown",
   "metadata": {},
   "source": [
    "- Numerical Pythom\n",
    "\n",
    "- 파이썬의 고성능 과학 계산용 패키지\n",
    "\n",
    "- Matrix와 Vector와 같은 Array 연산의 사실상의 표준\n",
    "\n",
    "- 한글로는 넘파이로 주로 통칭\n",
    "\n",
    "- 일반 List에 비해 빠르고, 메모리도 효율적\n",
    "\n",
    "- 반복문 없이 데이터 배열에 대한 처리를 지원\n",
    "\n",
    "- 선형대수와 관련된 다양한 기능을 제공 \n",
    "\n",
    "- C, C++, 포트란 등의 언어와 통합 가능\n",
    "\n"
   ]
  },
  {
   "cell_type": "markdown",
   "metadata": {},
   "source": [
    "### 넘파이 ndarray\n",
    "\n",
    "- ndarray: N 차원(Dimension) 배열(Array) 객체\n",
    "\n",
    "- numpy 모듈의 array() 함수로 생성\n",
    "\n",
    "- 인자로 주로 파이썬 list 또는 ndarray 입력"
   ]
  },
  {
   "cell_type": "code",
   "execution_count": 1,
   "metadata": {},
   "outputs": [
    {
     "data": {
      "text/plain": [
       "array([[1, 2, 3],\n",
       "       [2, 3, 4]])"
      ]
     },
     "execution_count": 1,
     "metadata": {},
     "output_type": "execute_result"
    }
   ],
   "source": [
    "import numpy as np\n",
    "\n",
    "array1 = np.array([1,2,3])\n",
    "array2 = np.array([[1,2,3],\n",
    "                  [2,3,4]])\n",
    "\n",
    "array2"
   ]
  },
  {
   "cell_type": "markdown",
   "metadata": {},
   "source": [
    "#### ndarray 형태(shape)와 차원\n",
    "\n",
    "            array         차원       shape\n",
    "  \n",
    "         [1 2 3]      1차원        (3,)\n",
    "         [[1 2 3],    2차원        (2,3)\n",
    "         [4 5 6]]\n",
    "         \n",
    "- ndarray의 shape는 ndarray.shape의 속성으로, 차원은ndarray.ndim 속성으로 알 수 있음         \n",
    "        "
   ]
  },
  {
   "cell_type": "markdown",
   "metadata": {},
   "source": [
    "#### ndarray 타입\n",
    "\n",
    " \n",
    "    [1 2 3] : ndarray 내의 데이터 값은 수자 값, 문자열 값, 불 값 등이 모두 가능\n",
    "    \n",
    "    [1.1 2.1 3.2] : 숫자형의 경우 int형(8bit, 16bit, 32bit), unsigned  int형 (8bit, 16bit, 32bit), float형(16, 32, 64, 128 bit, 그리고 이보다 큰 숫자 값이나 정밀도를 위해 complex 타입도 제공\n",
    "    \n",
    "    ['홍길동', '임꺽정'] [True False True]\n",
    "    : ndarray 내의 데이터 타입은 그 연산의 특성상 같은 데이터 타입만 가능. 즉 한 개의 ndarray 객체의 int와 float가 함께 있을 수 없음\n",
    "    ndarray 내의 데이터 타입은 ndarray.dtype으로 확인 가능 \n",
    "     : "
   ]
  },
  {
   "cell_type": "markdown",
   "metadata": {},
   "source": [
    "#### ndarray 타입 변환\n",
    "\n",
    "- astype()을 이용하여 변환\n",
    "\n",
    "      - 변경 원하는 타입을 astype()에 인자로 입력\n",
    "      - 대용량 데이터를 ndarray로 만들 때 메모리를 절약하기 위해 자주 사용. 0,1,2와 같이 크지 않은 범위의 숫자를 위해 64bit float형 보다는 8bit, 16bit의 integer형으로 변환하는 것이 훨씬 메모리를 절약.\n",
    "      \n",
    "\n",
    "- 대용량 데이터를 다룰 시 메모리 절약을 위해 형변환을 특히 고려해야함"
   ]
  },
  {
   "cell_type": "markdown",
   "metadata": {},
   "source": [
    "#### 넘파이 ndarray의 axis 축\n",
    "\n",
    "- ndarray의 shape는 행, 열, 높이 단위로 부여되는 것이 아니라 axis0, axis1, axis2와 같이 axis 단위로 부여됨\n",
    "\n",
    "- 1차원 배열일 때\n",
    "       \n",
    "      axis0: colunm, shape:(4,)\n",
    "      \n",
    "- 2차원 배열일 때\n",
    "\n",
    "      axis0: row, axis1: col, shape(2,4)\n",
    "      \n",
    "- 3차원 배열일 때\n",
    "\n",
    "      shape(4,2,4)\n",
    "       "
   ]
  },
  {
   "cell_type": "markdown",
   "metadata": {},
   "source": [
    "#### ndarray를 편리하게 생성하기 - arange, zeros, ones\n",
    "\n",
    "- 특정 크기와 차원을 가진 ndarray를 연속값이나 0 또는 1로 초기화 생성해야 할 경우 arange(), zeros(), ones()를 이용해 쉽게 ndarray를 생성할 수 있음\n",
    "\n",
    "- 주로 테스트용으로 데이터를 만들거나 대규모의 데이터를 일괄적으로 초기화 해야할 경우에 사용함"
   ]
  },
  {
   "cell_type": "code",
   "execution_count": 2,
   "metadata": {},
   "outputs": [
    {
     "data": {
      "text/plain": [
       "array([0, 1, 2, 3, 4, 5, 6, 7, 8, 9])"
      ]
     },
     "execution_count": 2,
     "metadata": {},
     "output_type": "execute_result"
    }
   ],
   "source": [
    "np.arange(10)"
   ]
  },
  {
   "cell_type": "code",
   "execution_count": 3,
   "metadata": {},
   "outputs": [
    {
     "data": {
      "text/plain": [
       "array([[0, 0],\n",
       "       [0, 0],\n",
       "       [0, 0]])"
      ]
     },
     "execution_count": 3,
     "metadata": {},
     "output_type": "execute_result"
    }
   ],
   "source": [
    "np.zeros((3,2), dtype = 'int32')"
   ]
  },
  {
   "cell_type": "code",
   "execution_count": 4,
   "metadata": {},
   "outputs": [
    {
     "data": {
      "text/plain": [
       "array([[1., 1.],\n",
       "       [1., 1.],\n",
       "       [1., 1.]])"
      ]
     },
     "execution_count": 4,
     "metadata": {},
     "output_type": "execute_result"
    }
   ],
   "source": [
    "np.ones((3,2))"
   ]
  },
  {
   "cell_type": "markdown",
   "metadata": {},
   "source": [
    "#### ndarray의 차원의 크기를 변경하는 reshape()\n",
    "\n",
    "- reshape()는 ndarray를 특정 차원 및 형태로 변환. 변환 형태를 함수 인자로 부여하면 됨\n",
    "\n",
    "\n",
    "      array 1 -> [0 1 2 3 4 5 6 7 8 9]\n",
    "      \n",
    "      reshape(2,5) : 2차원의 2x5 nadarray로 전환\n",
    "      \n",
    "      변환된 array -> [[0 1 2 3 4]\n",
    "                       [5 6 7 8 9]]"
   ]
  },
  {
   "cell_type": "markdown",
   "metadata": {},
   "source": [
    "- reshape(-1,5)와 같이 인자에 -을 부여하면 -1에 해당하는 axis의 크기는 가변적이되 -1이 아닌 인자값(여기서는 5)에 해당하는 axis 크기는 인자값으로 고정하여 ndarray의 shape를 변환\n",
    "\n",
    "      array 1 -> [0 1 2 3 4 5 6 7 8 9]\n",
    "      \n",
    "      reshape(-1,5) : 로우 axis인자가 -1, 컬럼 axis인자가 5고정된 5개 컬럼 axis 크기에 맞는 로우 axis 크기를 잗ㅇ으로 생성해 변환\n",
    "      \n",
    "      변환된 array -> [[0 1 2 3 4]\n",
    "                       [5 6 7 8 9]]\n",
    "                       \n",
    "                       : shape는 (2,5)"
   ]
  },
  {
   "cell_type": "markdown",
   "metadata": {},
   "source": [
    "- reshape()는 reshape(-1,1), reshape(-1,)과 같은 형식으로 변환이 요구되는 경우가 많음\n",
    "\n",
    "- 주로 머신러닝 API의 인자로 1차원 ndarray를 명확하게 2차원 ndarray로 변환하여 입력하기를 원하거나, 또는 반대의 경우가 있을 때, reshape()를 이용하여 ndarray의 형태를 변환시켜 주는데 사용됨\n",
    "\n",
    ": 강의노트 14p"
   ]
  },
  {
   "cell_type": "markdown",
   "metadata": {},
   "source": [
    "####  ndarray의 데이터 세트 선택하기 - 인덱싱(indexing)\n",
    "\n",
    "- 특정 위치의 단일값 추출\n",
    ": 원하는 위치의 인덱스 값을 지정하면 해당 위치의 데이터가 반환됨\n",
    "\n",
    "- 슬라이싱\n",
    ": 슬라이싱은 연속된 인덱스 상의 ndarray를 추출하는 방식임, '.'기호 사이에 시작 인덱스와 종료 인덱스를 표시하면 시작 인덱스에서 종려 인덱스 -1 위치에 있는 ndarray를 반환함\n",
    "\n",
    "- 팬시 인덱싱 (Fancy Indexing)\n",
    ": 일정한 인덱싱 집합을 리스트 또는 ndarray 형태로 지정해 해당 위치에 있는 ndarray를 반환함 \n",
    "\n",
    "- 불린 인덱싱 (Boolean Indexing)\n",
    ": 특정 조건에 해당하는지 여부인 T/F 값 인덱싱 집합을 기반으로 T에 해당하는 인덱스 위치에 있는 ndarray를 반환함\n"
   ]
  },
  {
   "cell_type": "markdown",
   "metadata": {},
   "source": [
    "#### 단일 값 추출\n",
    "\n",
    "- ndarray는 axis를 기분으로 0부터 시작하는 위치 인덱스 값을 가지고 있음. 해당 인덱스 값을 [] 에 명시하여 단일 값을 추출함. 마이너스가 인덱스로 사용되면 맨 뒤에서부터 위치를 지정함. 2차원이면 행렬을 사용해서 표현\n",
    "\n",
    "#### 슬라이싱(Slicing)\n",
    "\n",
    "- 슬라이싱은 ':'을 이용하여 연속된 값을 선택\n",
    "\n",
    "         array[:] = 전체\n",
    "         array[:3] array[3:] = 전체\n",
    "         2차원도 똑같이 행렬로 나눠서 표현\n",
    "\n",
    "#### 팬시 인덱싱\n",
    "\n",
    "- 팬시 인덱싱은 리스트나 ndarray로 인덱스 집합을 지정하면 해당 위치의 인덱스에 해당하는 ndarray를 반환하는 인덱스 방식\n",
    "\n",
    "        array[2,4,7] (위치) = [3,5,8] (값)\n",
    "        \n",
    "#### 불린 인덱싱\n",
    "- 조건필터링과 검색을 동시에 할 수 있기에 매우 자주 사용되는 인덱싱 방식\n",
    "\n",
    "        ndarray내의 값이 5보다 큰 ndarray를 추출하고자 한다면?\n",
    "        \n",
    "        : 불린인덱싱 - array1[array1>5] \n",
    "\n"
   ]
  },
  {
   "cell_type": "markdown",
   "metadata": {},
   "source": [
    "### 배열의 정렬, sort() & argsort()\n",
    "\n",
    "#### sort()\n",
    "\n",
    "- 넘파이 sort()유형\n",
    "    - np.sort(): 원 행렬은 그대로 유지한 채 행렬의 정렬된 행렬을 반환\n",
    "    - ndarray.sort() : 원 행렬 자체를 정렬한 형태로 변환하며 반환 값은 None \n",
    "    \n",
    "    \n",
    "            mp.sort()나 ndarray.sort() 모두 기본작으로 오름차순으로 행렬 내 원소를 정렬함. 내림차순으로 정렬하기 위해서는 [::-1]을 적용하면 됨.\n",
    "            \n",
    "            \n",
    "- 2차원에서느 axis를 기준으로 함. 0이 행, 1이 열. 0으로 정렬하면 행 순 정렬, 1로 정렬하면 열 순 정렬.\n",
    "\n",
    "\n",
    "#### argsort()\n",
    "\n",
    "- 원본 행렬 정렬 시, 정렬된 행렬의 원래 인덱스를 필요로 할 때 np.argsort()는 정렬 행렬의 원본 행렬 인덱스를 ndarray형으로 반환함.\n",
    "\n",
    "        즉, 원본 행렬에 인덱스를 붙여놓고, 정렬된 순서로 인덱스는 바뀌게 되는 것,\n",
    "            \n",
    "            "
   ]
  },
  {
   "cell_type": "markdown",
   "metadata": {},
   "source": [
    "### 선형대수 연산 - 전치 행렬\n",
    "\n",
    "- np.transpose(A)\n"
   ]
  },
  {
   "cell_type": "markdown",
   "metadata": {},
   "source": [
    "### Summary\n",
    "\n",
    "- 넘파이는 파이썬 머신러닝을 구성하는 핵심 기반으로 반드시 이해\n",
    "\n",
    "- 넘파이 API는 매우 넓은 범위를 다루고 있으므로, 머신러닝 애필리케이션을 작성할 때 중요하게 활용될 수 있는 핵심 개념 위주로 숙지하는 것이 좋음\n",
    "\n",
    "- 넘파이는 판다스에 비해 친절한 API를 제공하지 않으므로, 2차원 데이터의 경우 데이터 가공을 위해 넘파이보단 판다스를 이용하는 것이 효율적."
   ]
  },
  {
   "cell_type": "markdown",
   "metadata": {},
   "source": [
    "# Pandas"
   ]
  },
  {
   "cell_type": "markdown",
   "metadata": {},
   "source": [
    "### pandas의 장점\n",
    "\n",
    "- csv, 엑셀, DB, JSON 등 다양한 소스에서 데이터를 가져오고, 또한 해당 형식으로 데이터를 내보낼 수 있는 입출력 기능.\n",
    "\n",
    "- 데이터의 삽입, 삭제 ,병합, 결합, 슬라이싱, 인덱싱, 등 데이터를 필요한대로 조작할 수 있다\n",
    "\n",
    "- 누락 데이터 처리가 용이함\n",
    "\n",
    "- 통계분석이나 머신 러닝 분석이 가능하도록 연구모델을 설정할 수 있음\n",
    "\n",
    "- Statsmodel, SciPy 등 다양한 데이터 분석 패키지와 쉽게 연동되어 사용할 수 있음\n",
    "\n",
    "- NumPy처럼 빠른 속도로 데이터를 처리할 수 있음\n",
    "\n",
    "- import pandas as pd"
   ]
  },
  {
   "cell_type": "markdown",
   "metadata": {},
   "source": [
    "## pandas의 주요 구성요소\n",
    "\n",
    "### DataFrame\n",
    "\n",
    "- column X Rows 2차원 데이터 셋\n",
    "\n",
    "### Series\n",
    "\n",
    "- 1개의 Column 값으로만 구성된 1차원 데이터 셋"
   ]
  },
  {
   "cell_type": "markdown",
   "metadata": {},
   "source": [
    "### 기본 API\n",
    "\n",
    "- read.csv() : csv 파일 읽기\n",
    "\n",
    "- head() : 상위 5 줄 내용 출력\n",
    "\n",
    "- shape: 행, 열 개수\n",
    "\n",
    "- info():  dataframe 의 전반적인 정보. df를 구성하는 행, 열의 크기, 컬럼명, 컬럼을 구성하는 값의 자료형 등\n",
    "\n",
    "- describe(): 평균, 최대값, 최소값 등 통계량 출력\n",
    "\n",
    "- value_counts(): 개별 컬럼 내에 각각 값 나온 횟수 출력\n",
    "\n",
    "- sort_values(): 컬럼 기준으로 정렬\n",
    "\n",
    "- unique(): 유일한 값 출력\n",
    "\n"
   ]
  },
  {
   "cell_type": "markdown",
   "metadata": {},
   "source": [
    "### DataFrame 데이터 삭제\n",
    "\n",
    "- drop()\n",
    "\n",
    "        DataFrame.drop(labels = None, axis = 0, index = None, columns = None, level = None, inplace = F, errors = 'raisr')\n",
    "        \n",
    "    - axis: row 삭제시 0, col 삭제시 1\n",
    "    - 원본 데이터프레임은 유지하고 드롭된 데이터프레임을 새롭게 객체 변수로 받고싶음 inplace = F, 디폴트 값이 F\n",
    "    - 원본 df에서 드롭된 df를 다시 원본 df객체 변수로 할당하면 원본 df에서 드롭된 결과를 적용할 경우와 같음\n",
    "    "
   ]
  },
  {
   "cell_type": "markdown",
   "metadata": {},
   "source": [
    "### Index\n",
    "\n",
    "- 판다스 Index 객체는 RDBMS의 PK와 유사하게 DF, Series의 레코드를 고유하게 식별하는 개체\n",
    "\n",
    "- df, Series에서 Index객체만 추출하려면 DataFrame.index, Series.Index 속성을 통해 가능\n",
    "\n",
    "- Series 객체는 Index 객체를 포함하지만 Series 객체에 연산 함수를 적용 할 때 Index는 연산에서 제외됨. Index는 오직 식별용\n",
    "\n",
    "- DataFrame, Series에 reset_index() 메서드 수해하려면 새롭게 인덱스를 연속 숫자형으로 할당하면 기존 인덱스는 'Index'라는 새로운 컬럼명을 추가함\n",
    "\n"
   ]
  },
  {
   "cell_type": "markdown",
   "metadata": {},
   "source": [
    "### 데이터 셀렉션 및 필터링\n",
    "\n",
    "1. []\n",
    "    - 컬럼 기반 필터링 도는 불린 인덱싱 필터링 제공\n",
    "\n",
    "2. ix[], loc[], ilocp[]\n",
    "    - 명칭/ 위치 기반 인덱싱을 제공\n",
    "    \n",
    "3. 불린인덱싱\n",
    "    - 조건식에 따른 필터링 제공\n",
    "    - 위치기반, 명칭기반 인덱싱 모두 사용할 필요 없이 조건식을 []안에 기입하여 간편하게 필터링 수행\n",
    "    - 예) titanic_Boolean = titanic_df[titanic_df['Age']>60]\n",
    "    \n",
    "    \n",
    "    \n",
    "- 명칭(Label) 기반 인덱싱은 컬럼의 명칭을 기반으로 위치를 지정하는 방식임.\n",
    "    - '컬럼 명'같이명칭으로 열 위치를 지정하는 방식\n",
    "    \n",
    "- 위치(Position) 기반 인덱싱은 0을 출발점으로 하는 가로축, 세로축 좌표 기반의 행과 열 위치를 기반으로 데이터를 지정. 따라서, 행 열 위치값으로 정수가 입력됨.\n",
    "\n"
   ]
  },
  {
   "cell_type": "markdown",
   "metadata": {},
   "source": [
    "### Aggregation 함수\n",
    "\n",
    "- sum(), max(), min(), count() 등의 함수는 DataFrame, Series에서 집합 연산을 수행\n",
    "\n",
    "- DataFrame의 경우 바로 aggregation을 호출할 때 모든 컬럼에 해당 집합 연산을 적용 \n",
    "\n",
    "- axis값을 명시하지 않으면, axis = 0과 같은 결과를 출력 (0은 행끼리의 집합 연산)"
   ]
  },
  {
   "cell_type": "markdown",
   "metadata": {},
   "source": [
    "### 결손데이터 (Missing Data) 처리하기\n",
    "\n",
    "- isna(): DataFrame 안 주어진 칼럼값들이 NaN인지 T/F로 출력\n",
    "    - NaN이면 T\n",
    "    \n",
    "- fillna(): Missing 데이터를 인자로 주어진 값으로 대체 "
   ]
  },
  {
   "cell_type": "markdown",
   "metadata": {},
   "source": [
    "### DataFrame Group By \n",
    "\n",
    "- DataFrame은 Group by 연산을 위해 groupby() 메소들르 제공\n",
    "\n",
    "- groupby()는 by 인자로 group화 하려는 컬럼명을 받으면 데이터프레임의 그룹바이 객체를 반환\n",
    "\n",
    "- 이렇게 반환된 데이터프레임그룹바이 객체에 aggregation 함수 수행\n"
   ]
  },
  {
   "cell_type": "markdown",
   "metadata": {},
   "source": [
    "### pandas summary \n",
    "\n",
    "- 2차원데이터 핸들링을 위해서는 판다스를 사용\n",
    "\n",
    "- 판다스는 매우 편리하고 다양한 데이터 처리 API를 제공하지만, 이를 다 알기에는 넘 많음\n",
    "\n",
    "- 지금까지 언급된 핵심 사항에 집중하고, 데이터 처리를 직접 수행해 보면서 문제에 부딪힐 때 마다 판다스의 다양한 API를 찾아서 해결해 가면 판다스에 대한 실력을 향상시킬 수 있음"
   ]
  }
 ],
 "metadata": {
  "kernelspec": {
   "display_name": "Python 3",
   "language": "python",
   "name": "python3"
  },
  "language_info": {
   "codemirror_mode": {
    "name": "ipython",
    "version": 3
   },
   "file_extension": ".py",
   "mimetype": "text/x-python",
   "name": "python",
   "nbconvert_exporter": "python",
   "pygments_lexer": "ipython3",
   "version": "3.7.4"
  }
 },
 "nbformat": 4,
 "nbformat_minor": 2
}
